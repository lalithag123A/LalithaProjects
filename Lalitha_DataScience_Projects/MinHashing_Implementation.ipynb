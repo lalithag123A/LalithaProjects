{
 "cells": [
  {
   "cell_type": "code",
   "execution_count": 1,
   "id": "b05e702a",
   "metadata": {},
   "outputs": [
    {
     "name": "stdout",
     "output_type": "stream",
     "text": [
      "Requirement already satisfied: pyspark in c:\\users\\lalitha_local\\anaconda3\\lib\\site-packages (3.3.2)\n",
      "Requirement already satisfied: py4j==0.10.9.5 in c:\\users\\lalitha_local\\anaconda3\\lib\\site-packages (from pyspark) (0.10.9.5)\n"
     ]
    }
   ],
   "source": [
    "!pip install pyspark\n"
   ]
  },
  {
   "cell_type": "code",
   "execution_count": 2,
   "id": "9d4f8341",
   "metadata": {},
   "outputs": [],
   "source": [
    "import pyspark\n",
    "#py4javaerror need this\n",
    "import findspark\n",
    "findspark.init()\n"
   ]
  },
  {
   "cell_type": "code",
   "execution_count": 3,
   "id": "8f85a960",
   "metadata": {},
   "outputs": [
    {
     "data": {
      "text/plain": [
       "['hospital_pk,collection_week,state,ccn,hospital_name,address,city,zip,hospital_subtype,fips_code,is_metro_micro',\n",
       " '10055,5/8/2020,AL,10055,FLOWERS HOSPITAL,4370 WEST MAIN STREET,DOTHAN,36305,Short Term,1069,TRUE',\n",
       " '21301,6/5/2020,AK,21301,PROVIDENCE VALDEZ MEDICAL CENTER,PO BOX 550,VALDEZ,99686,Critical Access Hospitals,2260,FALSE',\n",
       " '50014,4/24/2020,CA,50014,SUTTER AMADOR HOSPITAL,200 MISSION BLVD,JACKSON,95642,Short Term,6005,FALSE',\n",
       " '62014,6/19/2020,CO,62014,VIBRA HOSPITAL OF DENVER,8451 PEARL ST,THORNTON,80229,Long Term,8001,TRUE',\n",
       " '150034,5/15/2020,FL,100087,SARASOTA MEMORIAL HOSPITAL,1700 S TAMIAMI TRL,SARASOTA,34239,Short Term,12115,TRUE',\n",
       " '100118,5/8/2020,FL,100118,ADVENTHEALTH PALM COAST,60 MEMORIAL MEDICAL PKWY,PALM COAST,32164,Short Term,12035,TRUE',\n",
       " '100125,6/19/2020,FL,100125,HOMESTEAD HOSPITAL,975 BAPTIST WAY,HOMESTEAD,33033,Short Term,12086,TRUE',\n",
       " '100137,4/24/2020,FL,100137,ADVENTHEALTH HEART OF FLORIDA,40100 HWY 27,DAVENPORT,33837,Short Term,12105,TRUE',\n",
       " '100260,5/15/2020,FL,100260,HCA FLORIDA ST LUCIE HOSPITAL,1800 SE TIFFANY AVE,PORT SAINT LUCIE,34952,Short Term,12111,TRUE',\n",
       " '110045,3/6/2020,GA,110045,NORTHEAST GEORGIA MEDICAL CENTER BARROW,316 NORTH BROAD STREET,WINDER,30680,Short Term,13013,TRUE',\n",
       " '110101,5/1/2020,GA,110101,\"SOUTHWELL MEDICAL, A CAMPUS OF TRMC\",260 MJ TAYLOR ROAD,ADEL,31620,Short Term,13075,FALSE',\n",
       " '330231,5/8/2020,GA,110177,DOCTORS HOSPITAL,3651 WHEELER ROAD,AUGUSTA,30909,Short Term,13245,TRUE',\n",
       " '110233,9/18/2020,GA,110233,\"SOUTHEASTERN REGIONAL MEDICAL CENTER, INC\",600 CELEBRATE LIFE PARKWAY NORTH,NEWNAN,30265,Short Term,13077,TRUE',\n",
       " '111302,4/24/2020,GA,111302,BLECKLEY MEMORIAL HOSPITAL,145 PEACOCK STREET,COCHRAN,31014,Critical Access Hospitals,13023,FALSE',\n",
       " '111305,5/29/2020,GA,111305,MILLER COUNTY HOSPITAL,209 N CUTHBERT STREET,COLQUITT,39837,Critical Access Hospitals,13201,FALSE',\n",
       " '111312,5/8/2020,GA,111312,OPTIM MEDICAL CENTER - SCREVEN,215 MIMS ROAD,SYLVANIA,30467,Critical Access Hospitals,13251,FALSE',\n",
       " '111314,7/31/2020,GA,111314,LIFEBRITE COMMUNITY HOSPITAL OF EARLY,11740 COLUMBIA STREET,BLAKELY,39823,Critical Access Hospitals,13099,FALSE',\n",
       " '121302,5/15/2020,HI,121302,KOHALA HOSPITAL,54-383 HOSPITAL ROAD,KAPAAU,96755,Critical Access Hospitals,15001,TRUE',\n",
       " '241326,7/3/2020,ID,130013,SAINT ALPHONSUS MEDICAL CENTER - NAMPA,4300 E FLAMINGO AVE,NAMPA,83687,Short Term,16027,TRUE']"
      ]
     },
     "execution_count": 3,
     "metadata": {},
     "output_type": "execute_result"
    }
   ],
   "source": [
    "from pyspark import SparkContext\n",
    "#create spark context\n",
    "sc=SparkContext.getOrCreate()\n",
    "\n",
    "# driver is closing forcebly so I had to run for small set\n",
    "hospitals_rdd=sc.textFile(\"test.csv\",32)\n",
    "#display data from RDD\n",
    "hospitals_rdd.collect()"
   ]
  },
  {
   "cell_type": "code",
   "execution_count": 4,
   "id": "34f772e8",
   "metadata": {},
   "outputs": [
    {
     "name": "stdout",
     "output_type": "stream",
     "text": [
      "hospital_pk,collection_week,state,ccn,hospital_name,address,city,zip,hospital_subtype,fips_code,is_metro_micro\n"
     ]
    }
   ],
   "source": [
    "#Store the header row in a broadcast variable \n",
    "header=sc.broadcast(hospitals_rdd.first())\n",
    "print(header.value)"
   ]
  },
  {
   "cell_type": "code",
   "execution_count": 5,
   "id": "ee31eb3d",
   "metadata": {},
   "outputs": [
    {
     "data": {
      "text/plain": [
       "['10055,5/8/2020,AL,10055,FLOWERS HOSPITAL,4370 WEST MAIN STREET,DOTHAN,36305,Short Term,1069,TRUE',\n",
       " '21301,6/5/2020,AK,21301,PROVIDENCE VALDEZ MEDICAL CENTER,PO BOX 550,VALDEZ,99686,Critical Access Hospitals,2260,FALSE',\n",
       " '50014,4/24/2020,CA,50014,SUTTER AMADOR HOSPITAL,200 MISSION BLVD,JACKSON,95642,Short Term,6005,FALSE',\n",
       " '62014,6/19/2020,CO,62014,VIBRA HOSPITAL OF DENVER,8451 PEARL ST,THORNTON,80229,Long Term,8001,TRUE',\n",
       " '150034,5/15/2020,FL,100087,SARASOTA MEMORIAL HOSPITAL,1700 S TAMIAMI TRL,SARASOTA,34239,Short Term,12115,TRUE',\n",
       " '100118,5/8/2020,FL,100118,ADVENTHEALTH PALM COAST,60 MEMORIAL MEDICAL PKWY,PALM COAST,32164,Short Term,12035,TRUE',\n",
       " '100125,6/19/2020,FL,100125,HOMESTEAD HOSPITAL,975 BAPTIST WAY,HOMESTEAD,33033,Short Term,12086,TRUE',\n",
       " '100137,4/24/2020,FL,100137,ADVENTHEALTH HEART OF FLORIDA,40100 HWY 27,DAVENPORT,33837,Short Term,12105,TRUE',\n",
       " '100260,5/15/2020,FL,100260,HCA FLORIDA ST LUCIE HOSPITAL,1800 SE TIFFANY AVE,PORT SAINT LUCIE,34952,Short Term,12111,TRUE',\n",
       " '110045,3/6/2020,GA,110045,NORTHEAST GEORGIA MEDICAL CENTER BARROW,316 NORTH BROAD STREET,WINDER,30680,Short Term,13013,TRUE',\n",
       " '110101,5/1/2020,GA,110101,\"SOUTHWELL MEDICAL, A CAMPUS OF TRMC\",260 MJ TAYLOR ROAD,ADEL,31620,Short Term,13075,FALSE',\n",
       " '330231,5/8/2020,GA,110177,DOCTORS HOSPITAL,3651 WHEELER ROAD,AUGUSTA,30909,Short Term,13245,TRUE',\n",
       " '110233,9/18/2020,GA,110233,\"SOUTHEASTERN REGIONAL MEDICAL CENTER, INC\",600 CELEBRATE LIFE PARKWAY NORTH,NEWNAN,30265,Short Term,13077,TRUE',\n",
       " '111302,4/24/2020,GA,111302,BLECKLEY MEMORIAL HOSPITAL,145 PEACOCK STREET,COCHRAN,31014,Critical Access Hospitals,13023,FALSE',\n",
       " '111305,5/29/2020,GA,111305,MILLER COUNTY HOSPITAL,209 N CUTHBERT STREET,COLQUITT,39837,Critical Access Hospitals,13201,FALSE',\n",
       " '111312,5/8/2020,GA,111312,OPTIM MEDICAL CENTER - SCREVEN,215 MIMS ROAD,SYLVANIA,30467,Critical Access Hospitals,13251,FALSE',\n",
       " '111314,7/31/2020,GA,111314,LIFEBRITE COMMUNITY HOSPITAL OF EARLY,11740 COLUMBIA STREET,BLAKELY,39823,Critical Access Hospitals,13099,FALSE',\n",
       " '121302,5/15/2020,HI,121302,KOHALA HOSPITAL,54-383 HOSPITAL ROAD,KAPAAU,96755,Critical Access Hospitals,15001,TRUE',\n",
       " '241326,7/3/2020,ID,130013,SAINT ALPHONSUS MEDICAL CENTER - NAMPA,4300 E FLAMINGO AVE,NAMPA,83687,Short Term,16027,TRUE']"
      ]
     },
     "execution_count": 5,
     "metadata": {},
     "output_type": "execute_result"
    }
   ],
   "source": [
    "#get/filter the content information without header\n",
    "hospitals_rdd = hospitals_rdd.filter(lambda x: x != header.value)\n",
    "hospitals_rdd.collect()"
   ]
  },
  {
   "cell_type": "code",
   "execution_count": 6,
   "id": "5a3d6241",
   "metadata": {},
   "outputs": [
    {
     "name": "stdout",
     "output_type": "stream",
     "text": [
      "[('10055', {'collection_week': '5/8/2020', 'state': 'AL', 'ccn': '10055', 'hospital_name': 'FLOWERS HOSPITAL', 'address': '4370 WEST MAIN STREET', 'city': 'DOTHAN', 'zip': '36305', 'hospital_subtype': 'Short Term', 'fips_code': '1069', 'is_metro_micro': 'TRUE'}), ('21301', {'collection_week': '6/5/2020', 'state': 'AK', 'ccn': '21301', 'hospital_name': 'PROVIDENCE VALDEZ MEDICAL CENTER', 'address': 'PO BOX 550', 'city': 'VALDEZ', 'zip': '99686', 'hospital_subtype': 'Critical Access Hospitals', 'fips_code': '2260', 'is_metro_micro': 'FALSE'}), ('50014', {'collection_week': '4/24/2020', 'state': 'CA', 'ccn': '50014', 'hospital_name': 'SUTTER AMADOR HOSPITAL', 'address': '200 MISSION BLVD', 'city': 'JACKSON', 'zip': '95642', 'hospital_subtype': 'Short Term', 'fips_code': '6005', 'is_metro_micro': 'FALSE'}), ('62014', {'collection_week': '6/19/2020', 'state': 'CO', 'ccn': '62014', 'hospital_name': 'VIBRA HOSPITAL OF DENVER', 'address': '8451 PEARL ST', 'city': 'THORNTON', 'zip': '80229', 'hospital_subtype': 'Long Term', 'fips_code': '8001', 'is_metro_micro': 'TRUE'}), ('150034', {'collection_week': '5/15/2020', 'state': 'FL', 'ccn': '100087', 'hospital_name': 'SARASOTA MEMORIAL HOSPITAL', 'address': '1700 S TAMIAMI TRL', 'city': 'SARASOTA', 'zip': '34239', 'hospital_subtype': 'Short Term', 'fips_code': '12115', 'is_metro_micro': 'TRUE'}), ('100118', {'collection_week': '5/8/2020', 'state': 'FL', 'ccn': '100118', 'hospital_name': 'ADVENTHEALTH PALM COAST', 'address': '60 MEMORIAL MEDICAL PKWY', 'city': 'PALM COAST', 'zip': '32164', 'hospital_subtype': 'Short Term', 'fips_code': '12035', 'is_metro_micro': 'TRUE'}), ('100125', {'collection_week': '6/19/2020', 'state': 'FL', 'ccn': '100125', 'hospital_name': 'HOMESTEAD HOSPITAL', 'address': '975 BAPTIST WAY', 'city': 'HOMESTEAD', 'zip': '33033', 'hospital_subtype': 'Short Term', 'fips_code': '12086', 'is_metro_micro': 'TRUE'}), ('100137', {'collection_week': '4/24/2020', 'state': 'FL', 'ccn': '100137', 'hospital_name': 'ADVENTHEALTH HEART OF FLORIDA', 'address': '40100 HWY 27', 'city': 'DAVENPORT', 'zip': '33837', 'hospital_subtype': 'Short Term', 'fips_code': '12105', 'is_metro_micro': 'TRUE'}), ('100260', {'collection_week': '5/15/2020', 'state': 'FL', 'ccn': '100260', 'hospital_name': 'HCA FLORIDA ST LUCIE HOSPITAL', 'address': '1800 SE TIFFANY AVE', 'city': 'PORT SAINT LUCIE', 'zip': '34952', 'hospital_subtype': 'Short Term', 'fips_code': '12111', 'is_metro_micro': 'TRUE'}), ('110045', {'collection_week': '3/6/2020', 'state': 'GA', 'ccn': '110045', 'hospital_name': 'NORTHEAST GEORGIA MEDICAL CENTER BARROW', 'address': '316 NORTH BROAD STREET', 'city': 'WINDER', 'zip': '30680', 'hospital_subtype': 'Short Term', 'fips_code': '13013', 'is_metro_micro': 'TRUE'}), ('110101', {'collection_week': '5/1/2020', 'state': 'GA', 'ccn': '110101', 'hospital_name': '\"SOUTHWELL MEDICAL', 'address': ' A CAMPUS OF TRMC\"', 'city': '260 MJ TAYLOR ROAD', 'zip': 'ADEL', 'hospital_subtype': '31620', 'fips_code': 'Short Term', 'is_metro_micro': '13075'}), ('330231', {'collection_week': '5/8/2020', 'state': 'GA', 'ccn': '110177', 'hospital_name': 'DOCTORS HOSPITAL', 'address': '3651 WHEELER ROAD', 'city': 'AUGUSTA', 'zip': '30909', 'hospital_subtype': 'Short Term', 'fips_code': '13245', 'is_metro_micro': 'TRUE'}), ('110233', {'collection_week': '9/18/2020', 'state': 'GA', 'ccn': '110233', 'hospital_name': '\"SOUTHEASTERN REGIONAL MEDICAL CENTER', 'address': ' INC\"', 'city': '600 CELEBRATE LIFE PARKWAY NORTH', 'zip': 'NEWNAN', 'hospital_subtype': '30265', 'fips_code': 'Short Term', 'is_metro_micro': '13077'}), ('111302', {'collection_week': '4/24/2020', 'state': 'GA', 'ccn': '111302', 'hospital_name': 'BLECKLEY MEMORIAL HOSPITAL', 'address': '145 PEACOCK STREET', 'city': 'COCHRAN', 'zip': '31014', 'hospital_subtype': 'Critical Access Hospitals', 'fips_code': '13023', 'is_metro_micro': 'FALSE'}), ('111305', {'collection_week': '5/29/2020', 'state': 'GA', 'ccn': '111305', 'hospital_name': 'MILLER COUNTY HOSPITAL', 'address': '209 N CUTHBERT STREET', 'city': 'COLQUITT', 'zip': '39837', 'hospital_subtype': 'Critical Access Hospitals', 'fips_code': '13201', 'is_metro_micro': 'FALSE'}), ('111312', {'collection_week': '5/8/2020', 'state': 'GA', 'ccn': '111312', 'hospital_name': 'OPTIM MEDICAL CENTER - SCREVEN', 'address': '215 MIMS ROAD', 'city': 'SYLVANIA', 'zip': '30467', 'hospital_subtype': 'Critical Access Hospitals', 'fips_code': '13251', 'is_metro_micro': 'FALSE'}), ('111314', {'collection_week': '7/31/2020', 'state': 'GA', 'ccn': '111314', 'hospital_name': 'LIFEBRITE COMMUNITY HOSPITAL OF EARLY', 'address': '11740 COLUMBIA STREET', 'city': 'BLAKELY', 'zip': '39823', 'hospital_subtype': 'Critical Access Hospitals', 'fips_code': '13099', 'is_metro_micro': 'FALSE'}), ('121302', {'collection_week': '5/15/2020', 'state': 'HI', 'ccn': '121302', 'hospital_name': 'KOHALA HOSPITAL', 'address': '54-383 HOSPITAL ROAD', 'city': 'KAPAAU', 'zip': '96755', 'hospital_subtype': 'Critical Access Hospitals', 'fips_code': '15001', 'is_metro_micro': 'TRUE'}), ('241326', {'collection_week': '7/3/2020', 'state': 'ID', 'ccn': '130013', 'hospital_name': 'SAINT ALPHONSUS MEDICAL CENTER - NAMPA', 'address': '4300 E FLAMINGO AVE', 'city': 'NAMPA', 'zip': '83687', 'hospital_subtype': 'Short Term', 'fips_code': '16027', 'is_metro_micro': 'TRUE'})]\n"
     ]
    }
   ],
   "source": [
    "#extract rows in form of key and set of rows\n",
    "def extract_hospital_data(y, header):\n",
    "    #split values string by comma\n",
    "    data_list = y.split(\",\")\n",
    "    #extract the key value\n",
    "    key = data_list[0]\n",
    "    #get remaining values except key \n",
    "    values = data_list[1:]\n",
    "    #split the header string by comma\n",
    "    header_list = header.split(\",\")\n",
    "    \n",
    "    #create a set with header column and value except key into dictionary\n",
    "    values_dict = dict(zip(header_list[1:], values))\n",
    "    return (key, values_dict)\n",
    "\n",
    "hospitals_rdd = hospitals_rdd.map(lambda y: extract_hospital_data(y, header.value))\n",
    "result = hospitals_rdd.collect()\n",
    "print(result)"
   ]
  },
  {
   "cell_type": "code",
   "execution_count": 14,
   "id": "3081c14d",
   "metadata": {},
   "outputs": [
    {
     "name": "stdout",
     "output_type": "stream",
     "text": [
      "[('10055', {'collection_week': '5/8/2020', 'state': 'AL', 'ccn': '10055', 'hospital_name': 'FLOWERS HOSPITAL', 'address': '4370 WEST MAIN STREET', 'city': 'DOTHAN', 'zip': '36305', 'hospital_subtype': 'Short Term', 'fips_code': '1069', 'is_metro_micro': 'TRUE'}), ('111302', {'collection_week': '4/24/2020', 'state': 'GA', 'ccn': '111302', 'hospital_name': 'BLECKLEY MEMORIAL HOSPITAL', 'address': '145 PEACOCK STREET', 'city': 'COCHRAN', 'zip': '31014', 'hospital_subtype': 'Critical Access Hospitals', 'fips_code': '13023', 'is_metro_micro': 'FALSE'}), ('241326', {'collection_week': '7/3/2020', 'state': 'ID', 'ccn': '130013', 'hospital_name': 'SAINT ALPHONSUS MEDICAL CENTER - NAMPA', 'address': '4300 E FLAMINGO AVE', 'city': 'NAMPA', 'zip': '83687', 'hospital_subtype': 'Short Term', 'fips_code': '16027', 'is_metro_micro': 'TRUE'}), ('111305', {'collection_week': '5/29/2020', 'state': 'GA', 'ccn': '111305', 'hospital_name': 'MILLER COUNTY HOSPITAL', 'address': '209 N CUTHBERT STREET', 'city': 'COLQUITT', 'zip': '39837', 'hospital_subtype': 'Critical Access Hospitals', 'fips_code': '13201', 'is_metro_micro': 'FALSE'}), ('21301', {'collection_week': '6/5/2020', 'state': 'AK', 'ccn': '21301', 'hospital_name': 'PROVIDENCE VALDEZ MEDICAL CENTER', 'address': 'PO BOX 550', 'city': 'VALDEZ', 'zip': '99686', 'hospital_subtype': 'Critical Access Hospitals', 'fips_code': '2260', 'is_metro_micro': 'FALSE'}), ('100118', {'collection_week': '5/8/2020', 'state': 'FL', 'ccn': '100118', 'hospital_name': 'ADVENTHEALTH PALM COAST', 'address': '60 MEMORIAL MEDICAL PKWY', 'city': 'PALM COAST', 'zip': '32164', 'hospital_subtype': 'Short Term', 'fips_code': '12035', 'is_metro_micro': 'TRUE'}), ('50014', {'collection_week': '4/24/2020', 'state': 'CA', 'ccn': '50014', 'hospital_name': 'SUTTER AMADOR HOSPITAL', 'address': '200 MISSION BLVD', 'city': 'JACKSON', 'zip': '95642', 'hospital_subtype': 'Short Term', 'fips_code': '6005', 'is_metro_micro': 'FALSE'}), ('100137', {'collection_week': '4/24/2020', 'state': 'FL', 'ccn': '100137', 'hospital_name': 'ADVENTHEALTH HEART OF FLORIDA', 'address': '40100 HWY 27', 'city': 'DAVENPORT', 'zip': '33837', 'hospital_subtype': 'Short Term', 'fips_code': '12105', 'is_metro_micro': 'TRUE'}), ('110045', {'collection_week': '3/6/2020', 'state': 'GA', 'ccn': '110045', 'hospital_name': 'NORTHEAST GEORGIA MEDICAL CENTER BARROW', 'address': '316 NORTH BROAD STREET', 'city': 'WINDER', 'zip': '30680', 'hospital_subtype': 'Short Term', 'fips_code': '13013', 'is_metro_micro': 'TRUE'}), ('150034', {'collection_week': '5/15/2020', 'state': 'FL', 'ccn': '100087', 'hospital_name': 'SARASOTA MEMORIAL HOSPITAL', 'address': '1700 S TAMIAMI TRL', 'city': 'SARASOTA', 'zip': '34239', 'hospital_subtype': 'Short Term', 'fips_code': '12115', 'is_metro_micro': 'TRUE'}), ('100125', {'collection_week': '6/19/2020', 'state': 'FL', 'ccn': '100125', 'hospital_name': 'HOMESTEAD HOSPITAL', 'address': '975 BAPTIST WAY', 'city': 'HOMESTEAD', 'zip': '33033', 'hospital_subtype': 'Short Term', 'fips_code': '12086', 'is_metro_micro': 'TRUE'}), ('110101', {'collection_week': '5/1/2020', 'state': 'GA', 'ccn': '110101', 'hospital_name': '\"SOUTHWELL MEDICAL', 'address': ' A CAMPUS OF TRMC\"', 'city': '260 MJ TAYLOR ROAD', 'zip': 'ADEL', 'hospital_subtype': '31620', 'fips_code': 'Short Term', 'is_metro_micro': '13075'}), ('100260', {'collection_week': '5/15/2020', 'state': 'FL', 'ccn': '100260', 'hospital_name': 'HCA FLORIDA ST LUCIE HOSPITAL', 'address': '1800 SE TIFFANY AVE', 'city': 'PORT SAINT LUCIE', 'zip': '34952', 'hospital_subtype': 'Short Term', 'fips_code': '12111', 'is_metro_micro': 'TRUE'}), ('330231', {'collection_week': '5/8/2020', 'state': 'GA', 'ccn': '110177', 'hospital_name': 'DOCTORS HOSPITAL', 'address': '3651 WHEELER ROAD', 'city': 'AUGUSTA', 'zip': '30909', 'hospital_subtype': 'Short Term', 'fips_code': '13245', 'is_metro_micro': 'TRUE'}), ('111312', {'collection_week': '5/8/2020', 'state': 'GA', 'ccn': '111312', 'hospital_name': 'OPTIM MEDICAL CENTER - SCREVEN', 'address': '215 MIMS ROAD', 'city': 'SYLVANIA', 'zip': '30467', 'hospital_subtype': 'Critical Access Hospitals', 'fips_code': '13251', 'is_metro_micro': 'FALSE'}), ('121302', {'collection_week': '5/15/2020', 'state': 'HI', 'ccn': '121302', 'hospital_name': 'KOHALA HOSPITAL', 'address': '54-383 HOSPITAL ROAD', 'city': 'KAPAAU', 'zip': '96755', 'hospital_subtype': 'Critical Access Hospitals', 'fips_code': '15001', 'is_metro_micro': 'TRUE'}), ('111314', {'collection_week': '7/31/2020', 'state': 'GA', 'ccn': '111314', 'hospital_name': 'LIFEBRITE COMMUNITY HOSPITAL OF EARLY', 'address': '11740 COLUMBIA STREET', 'city': 'BLAKELY', 'zip': '39823', 'hospital_subtype': 'Critical Access Hospitals', 'fips_code': '13099', 'is_metro_micro': 'FALSE'}), ('110233', {'collection_week': '9/18/2020', 'state': 'GA', 'ccn': '110233', 'hospital_name': '\"SOUTHEASTERN REGIONAL MEDICAL CENTER', 'address': ' INC\"', 'city': '600 CELEBRATE LIFE PARKWAY NORTH', 'zip': 'NEWNAN', 'hospital_subtype': '30265', 'fips_code': 'Short Term', 'is_metro_micro': '13077'}), ('62014', {'collection_week': '6/19/2020', 'state': 'CO', 'ccn': '62014', 'hospital_name': 'VIBRA HOSPITAL OF DENVER', 'address': '8451 PEARL ST', 'city': 'THORNTON', 'zip': '80229', 'hospital_subtype': 'Long Term', 'fips_code': '8001', 'is_metro_micro': 'TRUE'})]\n"
     ]
    }
   ],
   "source": [
    "# reduceByKey to group rows by hospital pk\n",
    "def group_rows(r1, r2):\n",
    "    return [r1[0], r1[1].union(r2[1])]\n",
    "\n",
    "grouped_rdd = hospitals_rdd.reduceByKey(group_rows)\n",
    "print(grouped_rdd.collect())"
   ]
  },
  {
   "cell_type": "code",
   "execution_count": 19,
   "id": "7884e6d1",
   "metadata": {},
   "outputs": [
    {
     "name": "stdout",
     "output_type": "stream",
     "text": [
      "[('241326', {'collection_week': '7/3/2020', 'state': 'ID', 'ccn': '130013', 'hospital_name': 'SAINT ALPHONSUS MEDICAL CENTER - NAMPA', 'address': '4300 E FLAMINGO AVE', 'city': 'NAMPA', 'zip': '83687', 'hospital_subtype': 'Short Term', 'fips_code': '16027', 'is_metro_micro': 'TRUE'}), ('150034', {'collection_week': '5/15/2020', 'state': 'FL', 'ccn': '100087', 'hospital_name': 'SARASOTA MEMORIAL HOSPITAL', 'address': '1700 S TAMIAMI TRL', 'city': 'SARASOTA', 'zip': '34239', 'hospital_subtype': 'Short Term', 'fips_code': '12115', 'is_metro_micro': 'TRUE'}), ('330231', {'collection_week': '5/8/2020', 'state': 'GA', 'ccn': '110177', 'hospital_name': 'DOCTORS HOSPITAL', 'address': '3651 WHEELER ROAD', 'city': 'AUGUSTA', 'zip': '30909', 'hospital_subtype': 'Short Term', 'fips_code': '13245', 'is_metro_micro': 'TRUE'})]\n"
     ]
    }
   ],
   "source": [
    "\n",
    "# Define a list of hospital pks from the question\n",
    "hospital_pks = ['150034', '050739', '330231','241326', '070008']\n",
    "\n",
    "# Iterate over each hospital pk in the list  \n",
    "keyvaluepair_data = []    \n",
    "for key, value in grouped_rdd.take(grouped_rdd.count()):\n",
    "    #print(value)\n",
    "    if(key in hospital_pks):\n",
    "        keyvaluepair_data.append((key, value))\n",
    "print(keyvaluepair_data)\n",
    "    "
   ]
  },
  {
   "cell_type": "code",
   "execution_count": null,
   "id": "7ae0deac",
   "metadata": {},
   "outputs": [],
   "source": [
    "#TASK 2"
   ]
  },
  {
   "cell_type": "code",
   "execution_count": 52,
   "id": "7f01bfd4",
   "metadata": {},
   "outputs": [
    {
     "name": "stdout",
     "output_type": "stream",
     "text": [
      "241326:<datasketch.minhash.MinHash object at 0x000001BF983A6CA0>\n",
      "150034:<datasketch.minhash.MinHash object at 0x000001BF983670D0>\n",
      "330231:<datasketch.minhash.MinHash object at 0x000001BF98367760>\n"
     ]
    }
   ],
   "source": [
    "#source reference: http://ekzhu.com/datasketch/minhash.html\n",
    "\n",
    "from datasketch import MinHash\n",
    "\n",
    "hashes={}\n",
    "#loop through all the hospital records, update minhash with the value\n",
    "#log the minhash for the key and display the matched key values\n",
    "for key, value in grouped_rdd.take(grouped_rdd.count()):\n",
    "  mh=MinHash(num_perm=100)\n",
    "  for d in value:\n",
    "    mh.update(d.encode('utf8'))\n",
    "  hashes[key]=mh\n",
    "\n",
    "for key, value in hashes.items():\n",
    "  keys=['150034', '050739', '330231','241326', '070008']\n",
    "  if key in keys:\n",
    "    print(f'{key}:{value}')"
   ]
  },
  {
   "cell_type": "code",
   "execution_count": null,
   "id": "25c3ac9a",
   "metadata": {},
   "outputs": [],
   "source": [
    "#TASK 3"
   ]
  },
  {
   "cell_type": "code",
   "execution_count": 54,
   "id": "edfc5247",
   "metadata": {},
   "outputs": [
    {
     "name": "stdout",
     "output_type": "stream",
     "text": [
      "150034  :  ['121302', '100118', '110101', '100137', '111305', '10055', '62014', '50014', '110233', '111302', '111312', '111314', '110045', '21301', '100260', '100125']\n",
      "330231  :  ['121302', '100118', '110101', '100137', '111305', '10055', '62014', '50014', '110233', '111302', '111312', '111314', '110045', '21301', '100260', '100125']\n",
      "241326  :  ['121302', '100118', '110101', '100137', '111305', '10055', '62014', '50014', '110233', '111302', '111312', '111314', '110045', '21301', '100260', '100125']\n"
     ]
    }
   ],
   "source": [
    "#source reference: http://ekzhu.com/datasketch/lsh.html\n",
    "from datasketch import MinHash, MinHashLSH\n",
    "\n",
    "jaccard={}\n",
    "# Create LSH index\n",
    "\n",
    "keys=['150034', '330231','241326']\n",
    "for i in keys:\n",
    "  lsh = MinHashLSH(threshold=0.2, num_perm=100)\n",
    "  # loop through hash items and identify keys that do not match\n",
    "  # put those into the jaccard dictionary\n",
    "  for key,value in hashes.items():\n",
    "    if key not in keys:\n",
    "      lsh.insert(key, value)\n",
    "    result = lsh.query(hashes[i])\n",
    "    jaccard[i]=result\n",
    "for key,value in jaccard.items():\n",
    "    print(f'{key}  :  {value[:20]}')"
   ]
  },
  {
   "cell_type": "code",
   "execution_count": 50,
   "id": "cc17ed45",
   "metadata": {},
   "outputs": [
    {
     "data": {
      "text/plain": [
       "dict_items([('10055', <datasketch.minhash.MinHash object at 0x000001BF983D1520>), ('111302', <datasketch.minhash.MinHash object at 0x000001BF983D1190>), ('241326', <datasketch.minhash.MinHash object at 0x000001BF983FF340>), ('111305', <datasketch.minhash.MinHash object at 0x000001BF98379E80>), ('21301', <datasketch.minhash.MinHash object at 0x000001BF98379310>), ('100118', <datasketch.minhash.MinHash object at 0x000001BF983799A0>), ('50014', <datasketch.minhash.MinHash object at 0x000001BF983797F0>), ('100137', <datasketch.minhash.MinHash object at 0x000001BF983793A0>), ('110045', <datasketch.minhash.MinHash object at 0x000001BF98379F40>), ('150034', <datasketch.minhash.MinHash object at 0x000001BF983792E0>), ('100125', <datasketch.minhash.MinHash object at 0x000001BF98379A30>), ('110101', <datasketch.minhash.MinHash object at 0x000001BF98379EE0>), ('100260', <datasketch.minhash.MinHash object at 0x000001BF98379400>), ('330231', <datasketch.minhash.MinHash object at 0x000001BF98379DC0>), ('111312', <datasketch.minhash.MinHash object at 0x000001BF98379D60>), ('121302', <datasketch.minhash.MinHash object at 0x000001BF983790A0>), ('111314', <datasketch.minhash.MinHash object at 0x000001BF98379250>), ('110233', <datasketch.minhash.MinHash object at 0x000001BF98379040>), ('62014', <datasketch.minhash.MinHash object at 0x000001BF98379580>)])"
      ]
     },
     "execution_count": 50,
     "metadata": {},
     "output_type": "execute_result"
    }
   ],
   "source": [
    "hashes.items()"
   ]
  }
 ],
 "metadata": {
  "kernelspec": {
   "display_name": "Python 3 (ipykernel)",
   "language": "python",
   "name": "python3"
  },
  "language_info": {
   "codemirror_mode": {
    "name": "ipython",
    "version": 3
   },
   "file_extension": ".py",
   "mimetype": "text/x-python",
   "name": "python",
   "nbconvert_exporter": "python",
   "pygments_lexer": "ipython3",
   "version": "3.9.12"
  }
 },
 "nbformat": 4,
 "nbformat_minor": 5
}
